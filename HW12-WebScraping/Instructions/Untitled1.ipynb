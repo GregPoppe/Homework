{
 "cells": [
  {
   "cell_type": "code",
   "execution_count": 4,
   "metadata": {},
   "outputs": [],
   "source": [
    "\n",
    "\n",
    "from flask import Flask, render_template, redirect\n",
    "import pymongo\n",
    "import mars_scrape\n",
    "\n",
    "\n",
    "\n",
    "conn = 'mongodb://localhost:27017'\n",
    "\n",
    "client = pymongo.MongoClient(conn)\n",
    "\n",
    "db = client.mars_db\n",
    "\n",
    "data = mars_scrape.scrape()\n",
    "\n",
    "\n"
   ]
  },
  {
   "cell_type": "code",
   "execution_count": 5,
   "metadata": {},
   "outputs": [
    {
     "data": {
      "text/plain": [
       "{'Title': 'Some Title',\n",
       " 'News': 'Some Text Here. Lots of news.',\n",
       " 'Featured_Image': 'Some Image URL',\n",
       " 'Current_Weather': 'Some Text about the weather. 80 Degrees and Sunny',\n",
       " 'Facts': 'Some cool facts about Mars go here',\n",
       " 'Hemispheres': [{'title': 'Valles Marineris Hemisphere', 'img_url': '...'},\n",
       "  {'title': 'Cerberus Hemisphere', 'img_url': '...'},\n",
       "  {'title': 'Schiaparelli Hemisphere', 'img_url': '...'},\n",
       "  {'title': 'Syrtis Major Hemisphere', 'img_url': '...'}]}"
      ]
     },
     "execution_count": 5,
     "metadata": {},
     "output_type": "execute_result"
    }
   ],
   "source": [
    "data"
   ]
  },
  {
   "cell_type": "code",
   "execution_count": null,
   "metadata": {},
   "outputs": [],
   "source": []
  }
 ],
 "metadata": {
  "kernelspec": {
   "display_name": "Python 3",
   "language": "python",
   "name": "python3"
  },
  "language_info": {
   "codemirror_mode": {
    "name": "ipython",
    "version": 3
   },
   "file_extension": ".py",
   "mimetype": "text/x-python",
   "name": "python",
   "nbconvert_exporter": "python",
   "pygments_lexer": "ipython3",
   "version": "3.6.7"
  }
 },
 "nbformat": 4,
 "nbformat_minor": 2
}
