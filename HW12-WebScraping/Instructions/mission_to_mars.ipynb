{
 "cells": [
  {
   "cell_type": "code",
   "execution_count": 1,
   "metadata": {},
   "outputs": [],
   "source": [
    "#Imoport Dependencies\n",
    "\n",
    "from bs4 import BeautifulSoup as bs\n",
    "import time\n",
    "import requests\n",
    "\n"
   ]
  },
  {
   "cell_type": "code",
   "execution_count": 2,
   "metadata": {},
   "outputs": [],
   "source": [
    "#Set up URLS \n",
    "\n",
    "url_latest_news = \"https://mars.nasa.gov/news/?page=0&per_page=40&order=publish_date+desc%2Ccreated_at+desc&search=&category=19%2C165%2C184%2C204&blank_scope=Latest\"  \n",
    "url_image = \"https://www.jpl.nasa.gov/spaceimages/?search=&category=Mars\"   \n",
    "url_twitter = \"https://twitter.com/marswxreport?lang=en\"   \n",
    "url_mars_facts = \"http://space-facts.com/mars/\"\n",
    "url_hemispheres = \"https://astrogeology.usgs.gov/search/results?q=hemisphere+enhanced&k1=target&v1=Mars\"\n",
    "    "
   ]
  },
  {
   "cell_type": "code",
   "execution_count": 3,
   "metadata": {},
   "outputs": [],
   "source": [
    "#Set up requests and responses\n",
    "\n",
    "response_latest_news = requests.get(url_latest_news)\n",
    "response_image = requests.get(url_image)\n",
    "response_twitter = requests.get(url_twitter)\n",
    "response_mars_facts = requests.get(url_mars_facts)\n",
    "response_hemisphere = requests.get(url_hemispheres)\n"
   ]
  },
  {
   "cell_type": "code",
   "execution_count": 4,
   "metadata": {},
   "outputs": [],
   "source": [
    "# Set up all the soups\n",
    "\n",
    "soup_latest_news = bs(response_latest_news.text, \"html.parser\")\n",
    "soup_image = bs(response_image.text, \"html.parser\")\n",
    "soup_twitter = bs(response_twitter.text, \"html.parser\")\n",
    "soup_mars_facts = bs(response_mars_facts.text, \"html.parser\")\n",
    "soup_hemisphere = bs(response_hemisphere.text, \"html.parser\")\n"
   ]
  },
  {
   "cell_type": "code",
   "execution_count": 72,
   "metadata": {},
   "outputs": [],
   "source": [
    "#Get web scrapings for latest news\n",
    "\n",
    "news_title = soup_latest_news.find_all('li', class_ = 'slide')\n",
    "news_title = 'Some Title'\n",
    "latest_news_text = 'Some Text Here. Lots of news.'"
   ]
  },
  {
   "cell_type": "code",
   "execution_count": 73,
   "metadata": {},
   "outputs": [
    {
     "name": "stdout",
     "output_type": "stream",
     "text": [
      "Some Title\n"
     ]
    }
   ],
   "source": [
    "print(news_title)"
   ]
  },
  {
   "cell_type": "code",
   "execution_count": 74,
   "metadata": {},
   "outputs": [
    {
     "data": {
      "text/plain": [
       "'https://www.jpl.nasa.gov/spaceimages/images/wallpaper/PIA18087-1920x1200.jpg'"
      ]
     },
     "execution_count": 74,
     "metadata": {},
     "output_type": "execute_result"
    }
   ],
   "source": [
    "#Get web scrapings for latest image\n",
    "\n",
    "a = soup_image.find_all('div', class_ = 'carousel_items')[0]\n",
    "b = a.find('article').attrs['style'].strip()\n",
    "url = b.split(\"'\")[1]\n",
    "base_url = 'https://www.jpl.nasa.gov'\n",
    "latest_image = base_url + url\n",
    "latest_image\n"
   ]
  },
  {
   "cell_type": "code",
   "execution_count": 75,
   "metadata": {},
   "outputs": [
    {
     "name": "stdout",
     "output_type": "stream",
     "text": [
      "Sol 2317 (2019-02-11), high -16C/3F, low -73C/-99F, pressure at 8.12 hPa, daylight 06:46-18:52pic.twitter.com/D15lfEs6RN\n"
     ]
    }
   ],
   "source": [
    "#Get web scrapings for latest weather\n",
    "\n",
    "#soup_twitter.find_all('p', class_=\"TweetTextSize TweetTextSize--normal js-tweet-text tweet-text\")\n",
    "\n",
    "#latest_weather = 'Some Text about the weather. 80 Degrees and Sunny'\n",
    "\n",
    "\n",
    "# Find all elements that contain tweets\n",
    "latest_weather = soup_twitter.find_all('div', class_='js-tweet-text-container')\n",
    "\n",
    "for tweet_html in latest_weather:\n",
    "    tweet = tweet_html.text.strip()\n",
    "    if tweet.startswith('Sol'): \n",
    "        weather = tweet\n",
    "        break\n",
    "\n",
    "print(weather)\n"
   ]
  },
  {
   "cell_type": "code",
   "execution_count": 90,
   "metadata": {},
   "outputs": [],
   "source": [
    "#Get web scrapings for mars facts\n",
    "\n",
    "#mars_facts = 'Some cool facts about Mars go here'\n",
    "mars_facts_soup = soup_mars_facts.find('div', id = 'facts').find_all('strong')\n",
    "\n",
    "mars_facts = []\n",
    "for strong in mars_facts_soup:\n",
    "    mars_facts.append(strong.text)\n",
    "\n"
   ]
  },
  {
   "cell_type": "code",
   "execution_count": 91,
   "metadata": {},
   "outputs": [
    {
     "data": {
      "text/plain": [
       "['Mars and Earth have approximately the same landmass.',\n",
       " 'Mars is home to the tallest mountain in the solar system.',\n",
       " 'Only 18 missions to Mars have been successful.',\n",
       " 'Mars has the largest dust storms in the solar system.',\n",
       " 'On Mars the Sun appears about half the size as it does on Earth.',\n",
       " 'Pieces of Mars have fallen to Earth.',\n",
       " 'Mars takes its name from the Roman god of war.',\n",
       " 'There are signs of liquid water on Mars.',\n",
       " 'One day Mars will have a ring.']"
      ]
     },
     "execution_count": 91,
     "metadata": {},
     "output_type": "execute_result"
    }
   ],
   "source": [
    "mars_facts"
   ]
  },
  {
   "cell_type": "raw",
   "metadata": {},
   "source": []
  },
  {
   "cell_type": "code",
   "execution_count": 72,
   "metadata": {},
   "outputs": [
    {
     "name": "stdout",
     "output_type": "stream",
     "text": [
      "/cache/images/dfaf3849e74bf973b59eb50dab52b583_cerberus_enhanced.tif_thumb.png\n",
      "Cerberus Hemisphere Enhanced thumbnail\n",
      "/cache/images/7677c0a006b83871b5a2f66985ab5857_schiaparelli_enhanced.tif_thumb.png\n",
      "Schiaparelli Hemisphere Enhanced thumbnail\n",
      "/cache/images/aae41197e40d6d4f3ea557f8cfe51d15_syrtis_major_enhanced.tif_thumb.png\n",
      "Syrtis Major Hemisphere Enhanced thumbnail\n",
      "/cache/images/04085d99ec3713883a9a57f42be9c725_valles_marineris_enhanced.tif_thumb.png\n",
      "Valles Marineris Hemisphere Enhanced thumbnail\n"
     ]
    }
   ],
   "source": [
    "hemis = soup_hemisphere.find_all(\"img\")\n",
    "\n",
    "\n",
    "for alt in hemis:\n",
    "    if alt['alt'].find('Hemi') != -1:\n",
    "        print(alt['src'])\n",
    "        print(alt['alt'])\n",
    "\n",
    "\n"
   ]
  },
  {
   "cell_type": "code",
   "execution_count": 83,
   "metadata": {},
   "outputs": [
    {
     "data": {
      "text/plain": [
       "[{'title': 'Cerberus Hemisphere',\n",
       "  'img_url': '/cache/images/dfaf3849e74bf973b59eb50dab52b583_cerberus_enhanced.tif_thumb.png'},\n",
       " {'title': 'Schiaparelli Hemisphere',\n",
       "  'img_url': '/cache/images/7677c0a006b83871b5a2f66985ab5857_schiaparelli_enhanced.tif_thumb.png'},\n",
       " {'title': 'Syrtis Major Hemisphere',\n",
       "  'img_url': '/cache/images/aae41197e40d6d4f3ea557f8cfe51d15_syrtis_major_enhanced.tif_thumb.png'},\n",
       " {'title': 'Valles Marineris Hemisphere',\n",
       "  'img_url': '/cache/images/04085d99ec3713883a9a57f42be9c725_valles_marineris_enhanced.tif_thumb.png'}]"
      ]
     },
     "execution_count": 83,
     "metadata": {},
     "output_type": "execute_result"
    }
   ],
   "source": [
    "hemisphere_image_urls = []\n",
    "hemis = soup_hemisphere.find_all(\"img\")\n",
    "\n",
    "for alt in hemis:\n",
    "    if alt['alt'].find('Hemi') != -1:\n",
    "        hemisphere_image_urls.append({'title':alt['alt'][:-19],'img_url':alt['src']})\n",
    "hemisphere_image_urls"
   ]
  },
  {
   "cell_type": "code",
   "execution_count": 78,
   "metadata": {},
   "outputs": [],
   "source": [
    "hemisphere_image_urls_test = [\n",
    "    {\"title\": \"Valles Marineris Hemisphere\", \"img_url\": \"...\"},\n",
    "    {\"title\": \"Cerberus Hemisphere\", \"img_url\": \"...\"},\n",
    "    {\"title\": \"Schiaparelli Hemisphere\", \"img_url\": \"...\"},\n",
    "    {\"title\": \"Syrtis Major Hemisphere\", \"img_url\": \"...\"},\n",
    "]"
   ]
  },
  {
   "cell_type": "code",
   "execution_count": 79,
   "metadata": {},
   "outputs": [
    {
     "data": {
      "text/plain": [
       "[{'title': 'Valles Marineris Hemisphere', 'img_url': '...'},\n",
       " {'title': 'Cerberus Hemisphere', 'img_url': '...'},\n",
       " {'title': 'Schiaparelli Hemisphere', 'img_url': '...'},\n",
       " {'title': 'Syrtis Major Hemisphere', 'img_url': '...'}]"
      ]
     },
     "execution_count": 79,
     "metadata": {},
     "output_type": "execute_result"
    }
   ],
   "source": [
    "hemisphere_image_urls_test"
   ]
  },
  {
   "cell_type": "code",
   "execution_count": null,
   "metadata": {},
   "outputs": [],
   "source": []
  },
  {
   "cell_type": "code",
   "execution_count": 78,
   "metadata": {},
   "outputs": [],
   "source": [
    "#Get web scrapings for Hemisphere Images\n",
    "\n",
    "hemisphere_image_urls = [\n",
    "    {\"title\": \"Valles Marineris Hemisphere\", \"img_url\": \"...\"},\n",
    "    {\"title\": \"Cerberus Hemisphere\", \"img_url\": \"...\"},\n",
    "    {\"title\": \"Schiaparelli Hemisphere\", \"img_url\": \"...\"},\n",
    "    {\"title\": \"Syrtis Major Hemisphere\", \"img_url\": \"...\"},\n",
    "]"
   ]
  },
  {
   "cell_type": "code",
   "execution_count": null,
   "metadata": {},
   "outputs": [],
   "source": []
  },
  {
   "cell_type": "code",
   "execution_count": 79,
   "metadata": {},
   "outputs": [],
   "source": [
    "    mars_data = {\n",
    "        'Title' : news_title,\n",
    "        'News' : latest_news_text,\n",
    "        'Featured_Image' : latest_image,\n",
    "        'Current_Weather' : latest_weather,\n",
    "        'Facts' : mars_facts,\n",
    "        'Hemispheres' : hemisphere_image_urls\n",
    "\n",
    "    }"
   ]
  },
  {
   "cell_type": "code",
   "execution_count": 81,
   "metadata": {},
   "outputs": [
    {
     "data": {
      "text/plain": [
       "'https://www.jpl.nasa.gov/spaceimages/images/wallpaper/PIA18087-1920x1200.jpg'"
      ]
     },
     "execution_count": 81,
     "metadata": {},
     "output_type": "execute_result"
    }
   ],
   "source": [
    "mars_data['Featured_Image']"
   ]
  },
  {
   "cell_type": "code",
   "execution_count": null,
   "metadata": {},
   "outputs": [],
   "source": []
  },
  {
   "cell_type": "code",
   "execution_count": null,
   "metadata": {},
   "outputs": [],
   "source": []
  },
  {
   "cell_type": "code",
   "execution_count": null,
   "metadata": {},
   "outputs": [],
   "source": []
  }
 ],
 "metadata": {
  "kernelspec": {
   "display_name": "Python 3",
   "language": "python",
   "name": "python3"
  },
  "language_info": {
   "codemirror_mode": {
    "name": "ipython",
    "version": 3
   },
   "file_extension": ".py",
   "mimetype": "text/x-python",
   "name": "python",
   "nbconvert_exporter": "python",
   "pygments_lexer": "ipython3",
   "version": "3.7.0"
  }
 },
 "nbformat": 4,
 "nbformat_minor": 2
}
